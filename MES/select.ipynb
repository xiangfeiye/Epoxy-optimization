{
 "cells": [
  {
   "cell_type": "code",
   "execution_count": 1,
   "id": "a845953a",
   "metadata": {},
   "outputs": [],
   "source": [
    "import os\n",
    "from tqdm import tqdm\n",
    "import pandas as pd\n",
    "import numpy as np\n",
    "from GPmodel import GaussianProcess\n",
    "from singlemes import MaxvalueEntropySearch\n",
    "from scipy.optimize import minimize as scipyminimize\n",
    "from platypus import NSGAII, Problem, Real\n",
    "import sobol_seq\n",
    "# from pygmo import hypervolume"
   ]
  },
  {
   "cell_type": "code",
   "execution_count": 2,
   "id": "4b4a25bd",
   "metadata": {},
   "outputs": [],
   "source": [
    "path='../'\n",
    "# from benchmark_functions import branin,Currin\n",
    "# functions=[branin,Currin]\n",
    "\n",
    "# 输入维度\n",
    "d = 9\n",
    "\n",
    "# 目标\n",
    "inputs = ['x1', 'x2', 'x3', 'x4', 'x5', 'x6', 'x7', 'x8', 'x9']\n",
    "functions = ['zdt2_y1', 'zdt2_y2']\n",
    "\n",
    "# 随机数确定\n",
    "seed=0\n",
    "np.random.seed(seed)\n",
    "\n",
    "# X的边界\n",
    "bound=[0,1]\n",
    "Fun_bounds = [bound]*d\n",
    "\n",
    "# 计算采集函数时使用的采样数量\n",
    "sample_number=32\n",
    "\n",
    "# 取新点时的采样数量\n",
    "MC_sample = 2048\n",
    "\n",
    "bounds = np.array([[0., 0., 0., 0., 0., 0., 0., 0., 0.],\n",
    "                       [1., 1., 1., 1., 1., 1., 1., 1., 1.]])"
   ]
  },
  {
   "cell_type": "code",
   "execution_count": 44,
   "id": "42300921",
   "metadata": {},
   "outputs": [],
   "source": [
    "def opt(filename, batch_size, log, output):\n",
    "\n",
    "    # 读取数据\n",
    "    df = pd.read_csv(path + filename + '.csv')\n",
    "\n",
    "    initial_x = np.array(df[inputs]) \n",
    "    initial_y = np.array(df[functions])\n",
    "    initial_x = (initial_x - bounds[0])/(bounds[1]-bounds[0])\n",
    "    # initial_y = (initial_y - initial_y.mean(axis=0) )/initial_y.std(axis=0)\n",
    "    \n",
    "    GPs=[]\n",
    "    Multiplemes=[]\n",
    "    for i in range(len(functions)):\n",
    "        GPs.append(GaussianProcess(d))\n",
    "\n",
    "    for i in range(len(functions)):\n",
    "        for j in range(len(initial_x)):\n",
    "            x_ = initial_x[j]\n",
    "            y_ = initial_y[j]\n",
    "            GPs[i].addSample(np.asarray(x_),y_[i])\n",
    "\n",
    "    for i in range(len(functions)):   \n",
    "        GPs[i].fitModel()\n",
    "        Multiplemes.append(MaxvalueEntropySearch(GPs[i]))\n",
    "        \n",
    "    for i in range(len(functions)):\n",
    "        Multiplemes[i]=MaxvalueEntropySearch(GPs[i])\n",
    "        Multiplemes[i].Sampling_RFM()\n",
    "    max_samples=[]\n",
    "    for j in range(sample_number):\n",
    "        for i in range(len(functions)):\n",
    "            Multiplemes[i].weigh_sampling()\n",
    "        cheap_pareto_front=[]\n",
    "        def CMO(xi):\n",
    "            xi=np.asarray(xi)\n",
    "            y=[Multiplemes[i].f_regression(xi)[0][0] for i in range(len(GPs))]\n",
    "            return y\n",
    "\n",
    "        problem = Problem(d, len(functions))\n",
    "        problem.types[:] = Real(bound[0], bound[1])\n",
    "        problem.function = CMO\n",
    "        algorithm = NSGAII(problem)\n",
    "        algorithm.run(1500)\n",
    "        cheap_pareto_front=[list(solution.objectives) for solution in algorithm.result]\n",
    "    #########picking the max over the pareto: best case\n",
    "        maxoffunctions=[-1*min(f) for f in list(zip(*cheap_pareto_front))]\n",
    "        max_samples.append(maxoffunctions)\n",
    "        \n",
    "    def mesmo_acq(x):\n",
    "        multi_obj_acq_total=0\n",
    "        for j in range(sample_number):\n",
    "            multi_obj_acq_sample=0\n",
    "            for i in range(len(functions)):\n",
    "                multi_obj_acq_sample=multi_obj_acq_sample+Multiplemes[i].single_acq(x,max_samples[j][i])\n",
    "            multi_obj_acq_total=multi_obj_acq_total+multi_obj_acq_sample\n",
    "        return (multi_obj_acq_total/sample_number)\n",
    "\n",
    "\n",
    "    # l-bfgs-b acquisation optimization\n",
    "    x_tries = np.random.uniform(bound[0], bound[1],size=(int(MC_sample/32), d))\n",
    "    y_tries=[mesmo_acq(x) for x in x_tries]\n",
    "    sorted_indecies=np.argsort(y_tries)\n",
    "    i=0\n",
    "    x_best=x_tries[sorted_indecies[i]]\n",
    "    while (any((x_best == x).all() for x in GPs[0].xValues)):\n",
    "        i=i+1\n",
    "        x_best=x_tries[sorted_indecies[i]]\n",
    "    y_best=y_tries[sorted_indecies[i]]  \n",
    "    \n",
    "    select_x = [x_best]\n",
    "    select_y = [y_best]\n",
    "    # select_x = list(select_x)\n",
    "    # select_y = list(select_y)\n",
    "    x_seed=list(np.random.uniform(low=bound[0], high=bound[1], size=(MC_sample,d)))    \n",
    "    for x_try in tqdm(x_seed):\n",
    "\n",
    "        result = scipyminimize(mesmo_acq, x0=np.asarray(x_try).reshape(-1), method='L-BFGS-B', bounds=Fun_bounds)\n",
    "        if not result.success:\n",
    "            continue\n",
    "        if not (result.x in np.asarray(GPs[0].xValues)):\n",
    "            select_x.append(result.x)\n",
    "            select_y.append(result.fun)\n",
    "            \n",
    "    select_x = np.array(select_x)\n",
    "    select_y = np.array(select_y)\n",
    "    sorted_indecies=np.argsort(select_y)\n",
    "    select_y[sorted_indecies][:batch_size]\n",
    "    new_x = select_x[sorted_indecies][:batch_size]\n",
    "    new_ = new_x * (bounds[1]-bounds[0]) + bounds[0]\n",
    "    \n",
    "    import pickle\n",
    "    state = {'df': df, 'd': d, 'functions': functions, 'seed': seed, 'bound': bound,\n",
    "            'Fun_bounds': Fun_bounds, 'sample_number': sample_number, 'MC_sample':MC_sample,\n",
    "            'initial_x': initial_x, 'initial_y':initial_y, 'GPs':GPs, \n",
    "            'Multiplemes':Multiplemes, 'max_samples':max_samples, 'select_x':select_x,\n",
    "            'select_y':select_y, 'new_x':new_}\n",
    "    with open('%s.pkl'%log, 'wb') as f:     \n",
    "        pickle.dump(state, f)\n",
    "        \n",
    "    select_df = pd.DataFrame()\n",
    "    select_df[inputs] = new_\n",
    "    select_df.to_csv('%s.csv'%output, index=False)"
   ]
  },
  {
   "cell_type": "code",
   "execution_count": 45,
   "id": "cc66e0f3",
   "metadata": {},
   "outputs": [
    {
     "name": "stderr",
     "output_type": "stream",
     "text": [
      "100%|██████████████████████████████████████████████████████████████████████████████| 2048/2048 [06:42<00:00,  5.09it/s]\n"
     ]
    }
   ],
   "source": [
    "filename = 'test_zdt12_1'\n",
    "batch_size = 4\n",
    "log = 'log_2'\n",
    "output = 'select_2'\n",
    "opt(filename, batch_size, log, output)"
   ]
  },
  {
   "cell_type": "code",
   "execution_count": 46,
   "id": "cda57e97",
   "metadata": {},
   "outputs": [
    {
     "name": "stderr",
     "output_type": "stream",
     "text": [
      "100%|██████████████████████████████████████████████████████████████████████████████| 2048/2048 [06:38<00:00,  5.13it/s]\n"
     ]
    }
   ],
   "source": [
    "filename = 'test_zdt12_2'\n",
    "batch_size = 4\n",
    "log = 'log_3'\n",
    "output = 'select_3'\n",
    "opt(filename, batch_size, log, output)"
   ]
  },
  {
   "cell_type": "code",
   "execution_count": 47,
   "id": "fa6538b5",
   "metadata": {},
   "outputs": [
    {
     "name": "stderr",
     "output_type": "stream",
     "text": [
      "100%|██████████████████████████████████████████████████████████████████████████████| 2048/2048 [06:39<00:00,  5.12it/s]\n"
     ]
    }
   ],
   "source": [
    "filename = 'test_zdt12_3'\n",
    "batch_size = 4\n",
    "log = 'log_4'\n",
    "output = 'select_4'\n",
    "opt(filename, batch_size, log, output)"
   ]
  },
  {
   "cell_type": "code",
   "execution_count": null,
   "id": "84e5ac39",
   "metadata": {},
   "outputs": [],
   "source": []
  }
 ],
 "metadata": {
  "kernelspec": {
   "display_name": "Python 3 (ipykernel)",
   "language": "python",
   "name": "python3"
  },
  "language_info": {
   "codemirror_mode": {
    "name": "ipython",
    "version": 3
   },
   "file_extension": ".py",
   "mimetype": "text/x-python",
   "name": "python",
   "nbconvert_exporter": "python",
   "pygments_lexer": "ipython3",
   "version": "3.11.5"
  }
 },
 "nbformat": 4,
 "nbformat_minor": 5
}
