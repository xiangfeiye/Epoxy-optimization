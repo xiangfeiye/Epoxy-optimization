{
 "cells": [
  {
   "cell_type": "code",
   "execution_count": 2,
   "id": "eaa9ed1c",
   "metadata": {},
   "outputs": [],
   "source": [
    "import numpy as np\n",
    "import pandas as pd\n",
    "import matplotlib.pyplot as plt\n",
    "\n",
    "def zdt1(x):\n",
    "    n = len(x)\n",
    "    f1 = x[0]\n",
    "    g = 1 + 9 * np.sum(x[1:]) / (n - 1)\n",
    "    f2 = g * (1 - np.sqrt(x[0] / g))\n",
    "    return f1, f2\n",
    "\n",
    "def zdt2(x):\n",
    "    n = len(x)\n",
    "    f1 = x[0]\n",
    "    g = 1 + 9 * np.sum(x[1:]) / (n - 1)\n",
    "    f2 = g * (1 - (x[0] / g)**2)\n",
    "    return f1, f2\n",
    "\n",
    "# 已知的真实帕累托解集\n",
    "# path = \"../test/\"\n",
    "# df1 = pd.read_csv('ZDT_1.csv')\n",
    "# df2 = pd.read_csv('ZDT_2.csv')\n",
    "# df5 = pd.read_csv('ZDT_5.csv')\n",
    "# df6 = pd.read_csv('ZDT_6.csv')\n",
    "# known_pareto_zdt1 = np.array(df1)\n",
    "# known_pareto_zdt2 = np.array(df2)\n",
    "\n",
    "# 生成随机种子，确保可重复性\n",
    "np.random.seed(42)"
   ]
  },
  {
   "cell_type": "markdown",
   "id": "7e2a6ca9",
   "metadata": {},
   "source": [
    "# initial"
   ]
  },
  {
   "cell_type": "code",
   "execution_count": 25,
   "id": "31df5869",
   "metadata": {},
   "outputs": [],
   "source": [
    "# 生成随机解集合\n",
    "num_features = 9\n",
    "num_samples = (num_features+1) * 2\n",
    "\n",
    "decision_variables = np.random.rand(num_samples, num_features)  # 决策变量，可根据需要修改\n",
    "\n",
    "# 计算ZDT1和ZDT2函数值\n",
    "zdt1_values = np.array([zdt1(x) for x in decision_variables])\n",
    "zdt2_values = np.array([zdt2(x) for x in decision_variables])\n",
    "\n",
    "new_df = pd.DataFrame()\n",
    "new_df[['x1', 'x2', 'x3', 'x4', 'x5', 'x6', 'x7', 'x8', 'x9']] = decision_variables\n",
    "# new_df[['zdt1_y1', 'zdt1_y2']] = -zdt1_values\n",
    "new_df[['zdt2_y1', 'zdt2_y2']] = -zdt2_values"
   ]
  },
  {
   "cell_type": "code",
   "execution_count": 26,
   "id": "6e939d9e",
   "metadata": {},
   "outputs": [],
   "source": [
    "new_df.to_csv('test_zdt12.csv', index=False)"
   ]
  },
  {
   "cell_type": "markdown",
   "id": "8437ba3e",
   "metadata": {},
   "source": [
    "# Iteration 1"
   ]
  },
  {
   "cell_type": "code",
   "execution_count": 31,
   "id": "8a721b51",
   "metadata": {},
   "outputs": [],
   "source": [
    "inputs = ['x1', 'x2', 'x3', 'x4', 'x5', 'x6', 'x7', 'x8', 'x9']\n",
    "target = ['zdt2_y1', 'zdt2_y2']\n",
    "# iteration 1\n",
    "df1 = pd.read_csv('MES/select_1.csv')\n",
    "x_ = df1[inputs]\n",
    "x_inputs = np.array(x_)\n",
    "zdt2_values = -np.array([zdt2(x) for x in x_inputs])\n",
    "\n",
    "df = pd.read_csv('test_zdt12.csv')\n",
    "x = np.array(df[inputs])\n",
    "y = np.array(df[target])\n",
    "x_ = np.array(df1[inputs])\n",
    "y_ = zdt2_values\n",
    "\n",
    "new_x = np.concatenate([x, x_])\n",
    "new_y = np.concatenate([y, y_])\n",
    "\n",
    "new_df = pd.DataFrame()\n",
    "new_df[inputs] = new_x\n",
    "new_df[target] = new_y\n",
    "new_df.to_csv('test_zdt12_1.csv', index=False)"
   ]
  },
  {
   "cell_type": "markdown",
   "id": "76d156b0",
   "metadata": {},
   "source": [
    "# Iteration 2"
   ]
  },
  {
   "cell_type": "code",
   "execution_count": 32,
   "id": "2b578252",
   "metadata": {},
   "outputs": [],
   "source": [
    "inputs = ['x1', 'x2', 'x3', 'x4', 'x5', 'x6', 'x7', 'x8', 'x9']\n",
    "target = ['zdt2_y1', 'zdt2_y2']\n",
    "# iteration 1\n",
    "df1 = pd.read_csv('MES/select_2.csv')\n",
    "x_ = df1[inputs]\n",
    "x_inputs = np.array(x_)\n",
    "zdt2_values = -np.array([zdt2(x) for x in x_inputs])\n",
    "\n",
    "df = pd.read_csv('test_zdt12_1.csv')\n",
    "x = np.array(df[inputs])\n",
    "y = np.array(df[target])\n",
    "x_ = np.array(df1[inputs])\n",
    "y_ = zdt2_values\n",
    "\n",
    "new_x = np.concatenate([x, x_])\n",
    "new_y = np.concatenate([y, y_])\n",
    "\n",
    "new_df = pd.DataFrame()\n",
    "new_df[inputs] = new_x\n",
    "new_df[target] = new_y\n",
    "new_df.to_csv('test_zdt12_2.csv', index=False)"
   ]
  },
  {
   "cell_type": "markdown",
   "id": "c3891990",
   "metadata": {},
   "source": [
    "# Iteration 3"
   ]
  },
  {
   "cell_type": "code",
   "execution_count": 33,
   "id": "aee88cb5",
   "metadata": {},
   "outputs": [],
   "source": [
    "inputs = ['x1', 'x2', 'x3', 'x4', 'x5', 'x6', 'x7', 'x8', 'x9']\n",
    "target = ['zdt2_y1', 'zdt2_y2']\n",
    "# iteration 1\n",
    "df1 = pd.read_csv('MES/select_3.csv')\n",
    "x_ = df1[inputs]\n",
    "x_inputs = np.array(x_)\n",
    "zdt2_values = -np.array([zdt2(x) for x in x_inputs])\n",
    "\n",
    "df = pd.read_csv('test_zdt12_2.csv')\n",
    "x = np.array(df[inputs])\n",
    "y = np.array(df[target])\n",
    "x_ = np.array(df1[inputs])\n",
    "y_ = zdt2_values\n",
    "\n",
    "new_x = np.concatenate([x, x_])\n",
    "new_y = np.concatenate([y, y_])\n",
    "\n",
    "new_df = pd.DataFrame()\n",
    "new_df[inputs] = new_x\n",
    "new_df[target] = new_y\n",
    "new_df.to_csv('test_zdt12_3.csv', index=False)"
   ]
  },
  {
   "cell_type": "markdown",
   "id": "ab54c382",
   "metadata": {},
   "source": [
    "# Iteration 4"
   ]
  },
  {
   "cell_type": "code",
   "execution_count": 34,
   "id": "731fc62f",
   "metadata": {},
   "outputs": [],
   "source": [
    "inputs = ['x1', 'x2', 'x3', 'x4', 'x5', 'x6', 'x7', 'x8', 'x9']\n",
    "target = ['zdt2_y1', 'zdt2_y2']\n",
    "# iteration 1\n",
    "df1 = pd.read_csv('MES/select_4.csv')\n",
    "x_ = df1[inputs]\n",
    "x_inputs = np.array(x_)\n",
    "zdt2_values = -np.array([zdt2(x) for x in x_inputs])\n",
    "\n",
    "df = pd.read_csv('test_zdt12_3.csv')\n",
    "x = np.array(df[inputs])\n",
    "y = np.array(df[target])\n",
    "x_ = np.array(df1[inputs])\n",
    "y_ = zdt2_values\n",
    "\n",
    "new_x = np.concatenate([x, x_])\n",
    "new_y = np.concatenate([y, y_])\n",
    "\n",
    "new_df = pd.DataFrame()\n",
    "new_df[inputs] = new_x\n",
    "new_df[target] = new_y\n",
    "new_df.to_csv('test_zdt12_4.csv', index=False)"
   ]
  },
  {
   "cell_type": "code",
   "execution_count": null,
   "id": "a5955c1c",
   "metadata": {},
   "outputs": [],
   "source": []
  }
 ],
 "metadata": {
  "kernelspec": {
   "display_name": "Python 3 (ipykernel)",
   "language": "python",
   "name": "python3"
  },
  "language_info": {
   "codemirror_mode": {
    "name": "ipython",
    "version": 3
   },
   "file_extension": ".py",
   "mimetype": "text/x-python",
   "name": "python",
   "nbconvert_exporter": "python",
   "pygments_lexer": "ipython3",
   "version": "3.11.5"
  }
 },
 "nbformat": 4,
 "nbformat_minor": 5
}
